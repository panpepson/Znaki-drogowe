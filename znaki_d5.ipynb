{
  "nbformat": 4,
  "nbformat_minor": 0,
  "metadata": {
    "colab": {
      "name": "znaki-d5.ipynb",
      "provenance": [],
      "mount_file_id": "1oLZl3N_isGE6a8GYSz5k6FUPyPrhH4ue",
      "authorship_tag": "ABX9TyMGBImzGRY4ikh1CMNFlC71",
      "include_colab_link": true
    },
    "kernelspec": {
      "name": "python3",
      "display_name": "Python 3"
    },
    "accelerator": "GPU"
  },
  "cells": [
    {
      "cell_type": "markdown",
      "metadata": {
        "id": "view-in-github",
        "colab_type": "text"
      },
      "source": [
        "<a href=\"https://colab.research.google.com/github/panpepson/Znaki-drogowe/blob/master/znaki_d5.ipynb\" target=\"_parent\"><img src=\"https://colab.research.google.com/assets/colab-badge.svg\" alt=\"Open In Colab\"/></a>"
      ]
    },
    {
      "cell_type": "code",
      "metadata": {
        "id": "Up65PvCkPakX",
        "colab_type": "code",
        "colab": {
          "base_uri": "https://localhost:8080/",
          "height": 170
        },
        "outputId": "9b4f58b7-d981-4cb5-b11a-eec7a36bfdc8"
      },
      "source": [
        "# D5 \n",
        "# https://www.youtube.com/watch?v=w8RkFik1hUU\n",
        "\n",
        "!pip install hyperopt"
      ],
      "execution_count": 2,
      "outputs": [
        {
          "output_type": "stream",
          "text": [
            "Requirement already satisfied: hyperopt in /usr/local/lib/python3.6/dist-packages (0.1.2)\n",
            "Requirement already satisfied: scipy in /usr/local/lib/python3.6/dist-packages (from hyperopt) (1.4.1)\n",
            "Requirement already satisfied: networkx in /usr/local/lib/python3.6/dist-packages (from hyperopt) (2.4)\n",
            "Requirement already satisfied: pymongo in /usr/local/lib/python3.6/dist-packages (from hyperopt) (3.10.1)\n",
            "Requirement already satisfied: tqdm in /usr/local/lib/python3.6/dist-packages (from hyperopt) (4.38.0)\n",
            "Requirement already satisfied: future in /usr/local/lib/python3.6/dist-packages (from hyperopt) (0.16.0)\n",
            "Requirement already satisfied: six in /usr/local/lib/python3.6/dist-packages (from hyperopt) (1.12.0)\n",
            "Requirement already satisfied: numpy in /usr/local/lib/python3.6/dist-packages (from hyperopt) (1.18.2)\n",
            "Requirement already satisfied: decorator>=4.3.0 in /usr/local/lib/python3.6/dist-packages (from networkx->hyperopt) (4.4.2)\n"
          ],
          "name": "stdout"
        }
      ]
    },
    {
      "cell_type": "code",
      "metadata": {
        "id": "zVK_aacFP1fL",
        "colab_type": "code",
        "colab": {
          "base_uri": "https://localhost:8080/",
          "height": 51
        },
        "outputId": "fd6eb40e-c424-499e-ec6b-4e910dc6899b"
      },
      "source": [
        "\n",
        "import pandas as pd\n",
        "import numpy as np\n",
        "import os \n",
        "import datetime\n",
        "\n",
        "import tensorflow as tf\n",
        "from tensorflow.keras.models import Sequential\n",
        "from tensorflow.keras.layers import Conv2D, MaxPool2D, Dense, Flatten, Dropout\n",
        "from tensorflow.keras.utils import to_categorical\n",
        "\n",
        "\n",
        "%load_ext tensorboard\n",
        "\n",
        "import matplotlib.pyplot as plt\n",
        "from skimage import color, exposure\n",
        "\n",
        "from sklearn.metrics import accuracy_score\n",
        "from hyperopt import hp, STATUS_OK, tpe, Trials, fmin"
      ],
      "execution_count": 12,
      "outputs": [
        {
          "output_type": "stream",
          "text": [
            "The tensorboard extension is already loaded. To reload it, use:\n",
            "  %reload_ext tensorboard\n"
          ],
          "name": "stdout"
        }
      ]
    },
    {
      "cell_type": "code",
      "metadata": {
        "id": "1qbDvZyJQa5T",
        "colab_type": "code",
        "colab": {
          "base_uri": "https://localhost:8080/",
          "height": 34
        },
        "outputId": "6928f363-bcb2-4f04-c9cc-6a74912f7fc9"
      },
      "source": [
        "cd '/content/drive/My Drive/Colab Notebooks/DW-Matrix/Znaki-drogowe'"
      ],
      "execution_count": 4,
      "outputs": [
        {
          "output_type": "stream",
          "text": [
            "/content/drive/My Drive/Colab Notebooks/DW-Matrix/Znaki-drogowe\n"
          ],
          "name": "stdout"
        }
      ]
    },
    {
      "cell_type": "code",
      "metadata": {
        "id": "_lUMs8mOQjv0",
        "colab_type": "code",
        "colab": {}
      },
      "source": [
        "train = pd.read_pickle('data/train.p')\n",
        "test = pd.read_pickle('data/test.p')\n",
        "\n",
        "X_train, y_train = train['features'], train['labels']\n",
        "X_test, y_test = test['features'], test['labels']"
      ],
      "execution_count": 0,
      "outputs": []
    },
    {
      "cell_type": "code",
      "metadata": {
        "id": "z0spd9xXQn4G",
        "colab_type": "code",
        "colab": {}
      },
      "source": [
        "#robimy macierz \n",
        "if y_train.ndim == 1: y_train = to_categorical(y_train)\n",
        "if y_test.ndim == 1: y_test = to_categorical(y_test)\n",
        "input_shape = X_train.shape[1:]\n",
        "num_classes = y_train.shape[1]"
      ],
      "execution_count": 0,
      "outputs": []
    },
    {
      "cell_type": "code",
      "metadata": {
        "id": "YJsX1YXFQuS7",
        "colab_type": "code",
        "colab": {}
      },
      "source": [
        "def train_model(model, X_train, y_train, params_fit={}):\n",
        "    model.compile(loss='categorical_crossentropy', optimizer='Adam', metrics=['accuracy'])\n",
        "\n",
        "    logdir = os.path.join(\"logs\", datetime.datetime.now().strftime(\"%Y%m%d-%H%M%S\"))\n",
        "    tensorboard_callback = tf.keras.callbacks.TensorBoard(logdir, histogram_freq=1)\n",
        "\n",
        "    model.fit(\n",
        "        X_train, \n",
        "        y_train,\n",
        "        batch_size = params_fit.get('batch_size', 128), # podzial wierszy na paczki\n",
        "        epochs = params_fit.get('epochs',5), #liczba iteracji \n",
        "        verbose = params_fit.get('verbose',1),\n",
        "        validation_data = params_fit.get('validation_data',(X_train, y_train)), #potzrebne do krzywych aby zobaczyc czy sie pzreuczyl\n",
        "        callbacks = [tensorboard_callback] #do wizualizcji\n",
        "     ) \n",
        "    \n",
        "    #return logdir \n",
        "    return model \n",
        "\n",
        "\n",
        "def predict(model_trained, X_test, y_test, scoring=accuracy_score):\n",
        "  y_test_norm = np.argmax(y_test, axis=1) #axis oznacza znajdz najwiesze prawdopodobienstwo dla jednego znku w srod maciezy\n",
        "  y_pred_prob = model_trained.predict(X_test)\n",
        "  y_pred = np.argmax(y_pred_prob, axis=1)\n",
        "  return accuracy_score(y_test_norm, y_pred)    "
      ],
      "execution_count": 0,
      "outputs": []
    },
    {
      "cell_type": "code",
      "metadata": {
        "id": "OJsJFvRmRLTy",
        "colab_type": "code",
        "colab": {}
      },
      "source": [
        "def get_cnn_v5(input_shape, num_classes):\n",
        "   return Sequential([\n",
        "          Conv2D(filters=32, kernel_size=(3,3), activation='relu', input_shape=input_shape),\n",
        "          Conv2D(filters=32, kernel_size=(3,3), activation='relu', padding='same'),\n",
        "          MaxPool2D(),\n",
        "          Dropout(0.3),\n",
        "\n",
        "          Conv2D(filters=64, kernel_size=(3,3), activation='relu', padding='same'),\n",
        "          Conv2D(filters=64, kernel_size=(3,3), activation='relu'),\n",
        "          MaxPool2D(),\n",
        "          Dropout(0.3),\n",
        "\n",
        "          Conv2D(filters=64, kernel_size=(3,3), activation='relu', padding='same'),\n",
        "          Conv2D(filters=64, kernel_size=(3,3), activation='relu'),\n",
        "          MaxPool2D(),\n",
        "          Dropout(0.3),\n",
        "                    \n",
        "          Flatten(),\n",
        "          Dense(1024, activation='relu'),\n",
        "          Dropout(0.3), #zeby sie ie przeuczyl \n",
        "          \n",
        "          Dense(1024, activation='relu'),\n",
        "          Dropout(0.3), \n",
        "\n",
        "          Dense(num_classes, activation='softmax'),\n",
        "\n",
        "          ])\n",
        "   \n",
        "#get_cnn_v4(input_shape, num_classes).summary()\n",
        "#train_and_predict(get_cnn_v5(input_shape, num_classes))"
      ],
      "execution_count": 0,
      "outputs": []
    },
    {
      "cell_type": "code",
      "metadata": {
        "id": "Y6f0TgSVRbS5",
        "colab_type": "code",
        "colab": {
          "base_uri": "https://localhost:8080/",
          "height": 204
        },
        "outputId": "fa3fbce2-3804-4d24-8acc-aae3f3fcb0d2"
      },
      "source": [
        "model = get_cnn_v5(input_shape, num_classes)\n",
        "model_trained = train_model(model, X_train, y_train)\n",
        "\n",
        "predict(model_trained, X_test, y_test)"
      ],
      "execution_count": 9,
      "outputs": [
        {
          "output_type": "stream",
          "text": [
            "Epoch 1/5\n",
            "272/272 [==============================] - 4s 15ms/step - loss: 2.7439 - accuracy: 0.2603 - val_loss: 1.3359 - val_accuracy: 0.5642\n",
            "Epoch 2/5\n",
            "272/272 [==============================] - 4s 14ms/step - loss: 1.1187 - accuracy: 0.6388 - val_loss: 0.3142 - val_accuracy: 0.9062\n",
            "Epoch 3/5\n",
            "272/272 [==============================] - 4s 14ms/step - loss: 0.4890 - accuracy: 0.8452 - val_loss: 0.1215 - val_accuracy: 0.9613\n",
            "Epoch 4/5\n",
            "272/272 [==============================] - 4s 14ms/step - loss: 0.2870 - accuracy: 0.9108 - val_loss: 0.0673 - val_accuracy: 0.9800\n",
            "Epoch 5/5\n",
            "272/272 [==============================] - 4s 14ms/step - loss: 0.2182 - accuracy: 0.9351 - val_loss: 0.0477 - val_accuracy: 0.9853\n"
          ],
          "name": "stdout"
        },
        {
          "output_type": "execute_result",
          "data": {
            "text/plain": [
              "0.9698412698412698"
            ]
          },
          "metadata": {
            "tags": []
          },
          "execution_count": 9
        }
      ]
    },
    {
      "cell_type": "code",
      "metadata": {
        "id": "tsXEBgh9U6pi",
        "colab_type": "code",
        "colab": {}
      },
      "source": [
        "def get_model(params):\n",
        "   return Sequential([\n",
        "          Conv2D(filters=32, kernel_size=(3,3), activation='relu', input_shape=input_shape),\n",
        "          Conv2D(filters=32, kernel_size=(3,3), activation='relu', padding='same'),\n",
        "          MaxPool2D(),\n",
        "          Dropout(params['dropout_cnn_block_one']),\n",
        "\n",
        "          Conv2D(filters=64, kernel_size=(3,3), activation='relu', padding='same'),\n",
        "          Conv2D(filters=64, kernel_size=(3,3), activation='relu'),\n",
        "          MaxPool2D(),\n",
        "          Dropout(params['dropout_cnn_block_two']),\n",
        "\n",
        "          Conv2D(filters=128, kernel_size=(3,3), activation='relu', padding='same'),\n",
        "          Conv2D(filters=128, kernel_size=(3,3), activation='relu'),\n",
        "          MaxPool2D(),\n",
        "          Dropout(params['dropout_cnn_block_three']),\n",
        "                    \n",
        "          Flatten(),\n",
        "          Dense(1024, activation='relu'),\n",
        "          Dropout(params['dropout_dense_block_one']), #zeby sie ie przeuczyl \n",
        "          \n",
        "          Dense(1024, activation='relu'),\n",
        "          Dropout(params['dropout_dense_block_two']), \n",
        "\n",
        "          Dense(num_classes, activation='softmax'),\n",
        "\n",
        "          ])"
      ],
      "execution_count": 0,
      "outputs": []
    },
    {
      "cell_type": "code",
      "metadata": {
        "id": "zqN4ux8kRkvD",
        "colab_type": "code",
        "colab": {}
      },
      "source": [
        "def func_obj(params):\n",
        "   model = get_model(params) \n",
        "   model.compile(loss='categorical_crossentropy', optimizer='Adam', metrics=['accuracy'])\n",
        "\n",
        "   model.fit(\n",
        "        X_train, \n",
        "        y_train,\n",
        "        batch_size = int(params.get('batch_size', 128)), # podzial wierszy na paczki\n",
        "        epochs = 5, #liczba iteracji \n",
        "        verbose = 0,\n",
        "        ) \n",
        "   scope = model.evaluate(X_test, y_test)\n",
        "   accuracy = scope[1] \n",
        "   print(params, 'accurancy={}'.format(accuracy))\n",
        "   \n",
        "   return {'loss': -accuracy, 'status': STATUS_OK, 'model': model}  #80 bedzie -0.8 a 100 -1.0 1 jest mniejsza "
      ],
      "execution_count": 0,
      "outputs": []
    },
    {
      "cell_type": "code",
      "metadata": {
        "id": "E4sqJO1bTVOq",
        "colab_type": "code",
        "colab": {
          "base_uri": "https://localhost:8080/",
          "height": 938
        },
        "outputId": "09ba0ebc-2628-4e59-ae87-87aead10fe09"
      },
      "source": [
        "space = {\n",
        "    'batch_size': hp.quniform('batch_size', 100, 200, 10), # od 50 do 200 krok 20 \n",
        "    'dropout_cnn_block_one': hp.uniform('dropout_cnn_block_one', 0.3, 0.5),\n",
        "    'dropout_cnn_block_two': hp.uniform('dropout_cnn_block_two', 0.3, 0.5),\n",
        "    'dropout_cnn_block_three': hp.uniform('dropout_cnn_block_three', 0.3, 0.5),\n",
        "\n",
        "    'dropout_dense_block_one': hp.uniform('dropout_dense_block_one', 0.3, 0.7),\n",
        "    'dropout_dense_block_two': hp.uniform('dropout_dense_block_two', 0.3, 0.7),\n",
        "}\n",
        "\n",
        "best = fmin(\n",
        "    func_obj,\n",
        "    space,\n",
        "    tpe.suggest, #algorytm\n",
        "    3,\n",
        "    Trials()\n",
        ")"
      ],
      "execution_count": 44,
      "outputs": [
        {
          "output_type": "stream",
          "text": [
            "  1/138 [..............................]\n",
            " - ETA: 0s - loss: 0.1882 - accuracy: 0.9375\n",
            "\b\b\b\b\b\b\b\b\b\b\b\b\b\b\b\b\b\b\b\b\b\b\b\b\b\b\b\b\b\b\b\b\b\b\b\b\b\b\b\b\b\b\b\b\b\b\b\b\b\b\b\b\b\b\b\b\b\b\b\b\b\b\b\b\b\b\b\b\b\b\b\b\b\b\b\b\b\b\b\b\b\b\b\b\n",
            " 15/138 [==>...........................]\n",
            " - ETA: 0s - loss: 0.1294 - accuracy: 0.9646\n",
            "\b\b\b\b\b\b\b\b\b\b\b\b\b\b\b\b\b\b\b\b\b\b\b\b\b\b\b\b\b\b\b\b\b\b\b\b\b\b\b\b\b\b\b\b\b\b\b\b\b\b\b\b\b\b\b\b\b\b\b\b\b\b\b\b\b\b\b\b\b\b\b\b\b\b\b\b\b\b\b\b\b\b\b\b\n",
            " 28/138 [=====>........................]\n",
            " - ETA: 0s - loss: 0.1517 - accuracy: 0.9688\n",
            "\b\b\b\b\b\b\b\b\b\b\b\b\b\b\b\b\b\b\b\b\b\b\b\b\b\b\b\b\b\b\b\b\b\b\b\b\b\b\b\b\b\b\b\b\b\b\b\b\b\b\b\b\b\b\b\b\b\b\b\b\b\b\b\b\b\b\b\b\b\b\b\b\b\b\b\b\b\b\b\b\b\b\b\b\n",
            " 41/138 [=======>......................]\n",
            " - ETA: 0s - loss: 0.1086 - accuracy: 0.9787\n",
            "\b\b\b\b\b\b\b\b\b\b\b\b\b\b\b\b\b\b\b\b\b\b\b\b\b\b\b\b\b\b\b\b\b\b\b\b\b\b\b\b\b\b\b\b\b\b\b\b\b\b\b\b\b\b\b\b\b\b\b\b\b\b\b\b\b\b\b\b\b\b\b\b\b\b\b\b\b\b\b\b\b\b\b\b\n",
            " 53/138 [==========>...................]\n",
            " - ETA: 0s - loss: 0.1445 - accuracy: 0.9735\n",
            "\b\b\b\b\b\b\b\b\b\b\b\b\b\b\b\b\b\b\b\b\b\b\b\b\b\b\b\b\b\b\b\b\b\b\b\b\b\b\b\b\b\b\b\b\b\b\b\b\b\b\b\b\b\b\b\b\b\b\b\b\b\b\b\b\b\b\b\b\b\b\b\b\b\b\b\b\b\b\b\b\b\b\b\b\n",
            " 65/138 [=============>................]\n",
            " - ETA: 0s - loss: 0.1755 - accuracy: 0.9611\n",
            "\b\b\b\b\b\b\b\b\b\b\b\b\b\b\b\b\b\b\b\b\b\b\b\b\b\b\b\b\b\b\b\b\b\b\b\b\b\b\b\b\b\b\b\b\b\b\b\b\b\b\b\b\b\b\b\b\b\b\b\b\b\b\b\b\b\b\b\b\b\b\b\b\b\b\b\b\b\b\b\b\b\b\b\b\n",
            " 77/138 [===============>..............]\n",
            " - ETA: 0s - loss: 0.1606 - accuracy: 0.9631\n",
            "\b\b\b\b\b\b\b\b\b\b\b\b\b\b\b\b\b\b\b\b\b\b\b\b\b\b\b\b\b\b\b\b\b\b\b\b\b\b\b\b\b\b\b\b\b\b\b\b\b\b\b\b\b\b\b\b\b\b\b\b\b\b\b\b\b\b\b\b\b\b\b\b\b\b\b\b\b\b\b\b\b\b\b\b\n",
            " 90/138 [==================>...........]\n",
            " - ETA: 0s - loss: 0.1399 - accuracy: 0.9684\n",
            "\b\b\b\b\b\b\b\b\b\b\b\b\b\b\b\b\b\b\b\b\b\b\b\b\b\b\b\b\b\b\b\b\b\b\b\b\b\b\b\b\b\b\b\b\b\b\b\b\b\b\b\b\b\b\b\b\b\b\b\b\b\b\b\b\b\b\b\b\b\b\b\b\b\b\b\b\b\b\b\b\b\b\b\b\n",
            "102/138 [=====================>........]\n",
            " - ETA: 0s - loss: 0.1343 - accuracy: 0.9688\n",
            "\b\b\b\b\b\b\b\b\b\b\b\b\b\b\b\b\b\b\b\b\b\b\b\b\b\b\b\b\b\b\b\b\b\b\b\b\b\b\b\b\b\b\b\b\b\b\b\b\b\b\b\b\b\b\b\b\b\b\b\b\b\b\b\b\b\b\b\b\b\b\b\b\b\b\b\b\b\b\b\b\b\b\b\b\n",
            "112/138 [=======================>......]\n",
            " - ETA: 0s - loss: 0.1406 - accuracy: 0.9671\n",
            "\b\b\b\b\b\b\b\b\b\b\b\b\b\b\b\b\b\b\b\b\b\b\b\b\b\b\b\b\b\b\b\b\b\b\b\b\b\b\b\b\b\b\b\b\b\b\b\b\b\b\b\b\b\b\b\b\b\b\b\b\b\b\b\b\b\b\b\b\b\b\b\b\b\b\b\b\b\b\b\b\b\b\b\b\n",
            "122/138 [=========================>....]\n",
            " - ETA: 0s - loss: 0.1295 - accuracy: 0.9698\n",
            "\b\b\b\b\b\b\b\b\b\b\b\b\b\b\b\b\b\b\b\b\b\b\b\b\b\b\b\b\b\b\b\b\b\b\b\b\b\b\b\b\b\b\b\b\b\b\b\b\b\b\b\b\b\b\b\b\b\b\b\b\b\b\b\b\b\b\b\b\b\b\b\b\b\b\b\b\b\b\b\b\b\b\b\b\n",
            "134/138 [============================>.]\n",
            " - ETA: 0s - loss: 0.1192 - accuracy: 0.9722\n",
            "\b\b\b\b\b\b\b\b\b\b\b\b\b\b\b\b\b\b\b\b\b\b\b\b\b\b\b\b\b\b\b\b\b\b\b\b\b\b\b\b\b\b\b\b\b\b\b\b\b\b\b\b\b\b\b\b\b\b\b\b\b\b\b\b\b\b\b\b\b\b\b\b\b\b\b\b\b\b\b\b\b\b\b\b\n",
            "138/138 [==============================]\n",
            " - 1s 4ms/step - loss: 0.1161 - accuracy: 0.9730\n",
            "\n",
            "{'batch_size': 110.0, 'dropout_cnn_block_one': 0.3125290410733707, 'dropout_cnn_block_three': 0.3950848254915371, 'dropout_cnn_block_two': 0.30855716341726097, 'dropout_dense_block_one': 0.33320888093571255, 'dropout_dense_block_two': 0.576930035627751}\n",
            "accurancy=0.9730158448219299\n",
            "  1/138 [..............................]\n",
            " - ETA: 0s - loss: 2.7134 - accuracy: 0.0000e+00\n",
            "\b\b\b\b\b\b\b\b\b\b\b\b\b\b\b\b\b\b\b\b\b\b\b\b\b\b\b\b\b\b\b\b\b\b\b\b\b\b\b\b\b\b\b\b\b\b\b\b\b\b\b\b\b\b\b\b\b\b\b\b\b\b\b\b\b\b\b\b\b\b\b\b\b\b\b\b\b\b\b\b\b\b\b\b\b\b\b\b\n",
            " 13/138 [=>............................]\n",
            " - ETA: 0s - loss: 2.0150 - accuracy: 0.2188    \n",
            "\b\b\b\b\b\b\b\b\b\b\b\b\b\b\b\b\b\b\b\b\b\b\b\b\b\b\b\b\b\b\b\b\b\b\b\b\b\b\b\b\b\b\b\b\b\b\b\b\b\b\b\b\b\b\b\b\b\b\b\b\b\b\b\b\b\b\b\b\b\b\b\b\b\b\b\b\b\b\b\b\b\b\b\b\n",
            " 26/138 [====>.........................]\n",
            " - ETA: 0s - loss: 2.0802 - accuracy: 0.2885\n",
            "\b\b\b\b\b\b\b\b\b\b\b\b\b\b\b\b\b\b\b\b\b\b\b\b\b\b\b\b\b\b\b\b\b\b\b\b\b\b\b\b\b\b\b\b\b\b\b\b\b\b\b\b\b\b\b\b\b\b\b\b\b\b\b\b\b\b\b\b\b\b\b\b\b\b\b\b\b\b\b\b\b\b\b\b\n",
            " 39/138 [=======>......................]\n",
            " - ETA: 0s - loss: 2.0641 - accuracy: 0.2228\n",
            "\b\b\b\b\b\b\b\b\b\b\b\b\b\b\b\b\b\b\b\b\b\b\b\b\b\b\b\b\b\b\b\b\b\b\b\b\b\b\b\b\b\b\b\b\b\b\b\b\b\b\b\b\b\b\b\b\b\b\b\b\b\b\b\b\b\b\b\b\b\b\b\b\b\b\b\b\b\b\b\b\b\b\b\b\n",
            " 50/138 [=========>....................]\n",
            " - ETA: 0s - loss: 2.0632 - accuracy: 0.2512\n",
            "\b\b\b\b\b\b\b\b\b\b\b\b\b\b\b\b\b\b\b\b\b\b\b\b\b\b\b\b\b\b\b\b\b\b\b\b\b\b\b\b\b\b\b\b\b\b\b\b\b\b\b\b\b\b\b\b\b\b\b\b\b\b\b\b\b\b\b\b\b\b\b\b\b\b\b\b\b\b\b\b\b\b\b\b\n",
            " 60/138 [============>.................]\n",
            " - ETA: 0s - loss: 1.8911 - accuracy: 0.3536\n",
            "\b\b\b\b\b\b\b\b\b\b\b\b\b\b\b\b\b\b\b\b\b\b\b\b\b\b\b\b\b\b\b\b\b\b\b\b\b\b\b\b\b\b\b\b\b\b\b\b\b\b\b\b\b\b\b\b\b\b\b\b\b\b\b\b\b\b\b\b\b\b\b\b\b\b\b\b\b\b\b\b\b\b\b\b\n",
            " 68/138 [=============>................]\n",
            " - ETA: 0s - loss: 1.8056 - accuracy: 0.3676\n",
            "\b\b\b\b\b\b\b\b\b\b\b\b\b\b\b\b\b\b\b\b\b\b\b\b\b\b\b\b\b\b\b\b\b\b\b\b\b\b\b\b\b\b\b\b\b\b\b\b\b\b\b\b\b\b\b\b\b\b\b\b\b\b\b\b\b\b\b\b\b\b\b\b\b\b\b\b\b\b\b\b\b\b\b\b\n",
            " 78/138 [===============>..............]\n",
            " - ETA: 0s - loss: 1.6315 - accuracy: 0.4263\n",
            "\b\b\b\b\b\b\b\b\b\b\b\b\b\b\b\b\b\b\b\b\b\b\b\b\b\b\b\b\b\b\b\b\b\b\b\b\b\b\b\b\b\b\b\b\b\b\b\b\b\b\b\b\b\b\b\b\b\b\b\b\b\b\b\b\b\b\b\b\b\b\b\b\b\b\b\b\b\b\b\b\b\b\b\b\n",
            " 89/138 [==================>...........]\n",
            " - ETA: 0s - loss: 1.5733 - accuracy: 0.4393\n",
            "\b\b\b\b\b\b\b\b\b\b\b\b\b\b\b\b\b\b\b\b\b\b\b\b\b\b\b\b\b\b\b\b\b\b\b\b\b\b\b\b\b\b\b\b\b\b\b\b\b\b\b\b\b\b\b\b\b\b\b\b\b\b\b\b\b\b\b\b\b\b\b\b\b\b\b\b\b\b\b\b\b\b\b\b\n",
            "101/138 [====================>.........]\n",
            " - ETA: 0s - loss: 1.5636 - accuracy: 0.4298\n",
            "\b\b\b\b\b\b\b\b\b\b\b\b\b\b\b\b\b\b\b\b\b\b\b\b\b\b\b\b\b\b\b\b\b\b\b\b\b\b\b\b\b\b\b\b\b\b\b\b\b\b\b\b\b\b\b\b\b\b\b\b\b\b\b\b\b\b\b\b\b\b\b\b\b\b\b\b\b\b\b\b\b\b\b\b\n",
            "113/138 [=======================>......]\n",
            " - ETA: 0s - loss: 1.5911 - accuracy: 0.4298\n",
            "\b\b\b\b\b\b\b\b\b\b\b\b\b\b\b\b\b\b\b\b\b\b\b\b\b\b\b\b\b\b\b\b\b\b\b\b\b\b\b\b\b\b\b\b\b\b\b\b\b\b\b\b\b\b\b\b\b\b\b\b\b\b\b\b\b\b\b\b\b\b\b\b\b\b\b\b\b\b\b\b\b\b\b\b\n",
            "126/138 [==========================>...]\n",
            " - ETA: 0s - loss: 1.4503 - accuracy: 0.4844\n",
            "\b\b\b\b\b\b\b\b\b\b\b\b\b\b\b\b\b\b\b\b\b\b\b\b\b\b\b\b\b\b\b\b\b\b\b\b\b\b\b\b\b\b\b\b\b\b\b\b\b\b\b\b\b\b\b\b\b\b\b\b\b\b\b\b\b\b\b\b\b\b\b\b\b\b\b\b\b\b\b\b\b\b\b\b\n",
            "138/138 [==============================]\n",
            " - ETA: 0s - loss: 1.4522 - accuracy: 0.4785\n",
            "\b\b\b\b\b\b\b\b\b\b\b\b\b\b\b\b\b\b\b\b\b\b\b\b\b\b\b\b\b\b\b\b\b\b\b\b\b\b\b\b\b\b\b\b\b\b\b\b\b\b\b\b\b\b\b\b\b\b\b\b\b\b\b\b\b\b\b\b\b\b\b\b\b\b\b\b\b\b\b\b\b\b\b\b\n",
            "138/138 [==============================]\n",
            " - 1s 5ms/step - loss: 1.4522 - accuracy: 0.4785\n",
            "\n",
            "{'batch_size': 170.0, 'dropout_cnn_block_one': 0.45293991504993397, 'dropout_cnn_block_three': 0.4548571458758537, 'dropout_cnn_block_two': 0.4963154331865516, 'dropout_dense_block_one': 0.6240083296504374, 'dropout_dense_block_two': 0.6676524528795307}\n",
            "accurancy=0.478458046913147\n",
            "  1/138 [..............................]\n",
            " - ETA: 0s - loss: 0.7570 - accuracy: 0.7812\n",
            "\b\b\b\b\b\b\b\b\b\b\b\b\b\b\b\b\b\b\b\b\b\b\b\b\b\b\b\b\b\b\b\b\b\b\b\b\b\b\b\b\b\b\b\b\b\b\b\b\b\b\b\b\b\b\b\b\b\b\b\b\b\b\b\b\b\b\b\b\b\b\b\b\b\b\b\b\b\b\b\b\b\b\b\b\n",
            " 15/138 [==>...........................]\n",
            " - ETA: 0s - loss: 0.1307 - accuracy: 0.9563\n",
            "\b\b\b\b\b\b\b\b\b\b\b\b\b\b\b\b\b\b\b\b\b\b\b\b\b\b\b\b\b\b\b\b\b\b\b\b\b\b\b\b\b\b\b\b\b\b\b\b\b\b\b\b\b\b\b\b\b\b\b\b\b\b\b\b\b\b\b\b\b\b\b\b\b\b\b\b\b\b\b\b\b\b\b\b\n",
            " 28/138 [=====>........................]\n",
            " - ETA: 0s - loss: 0.4508 - accuracy: 0.9051\n",
            "\b\b\b\b\b\b\b\b\b\b\b\b\b\b\b\b\b\b\b\b\b\b\b\b\b\b\b\b\b\b\b\b\b\b\b\b\b\b\b\b\b\b\b\b\b\b\b\b\b\b\b\b\b\b\b\b\b\b\b\b\b\b\b\b\b\b\b\b\b\b\b\b\b\b\b\b\b\b\b\b\b\b\b\b\n",
            " 41/138 [=======>......................]\n",
            " - ETA: 0s - loss: 0.3449 - accuracy: 0.9162\n",
            "\b\b\b\b\b\b\b\b\b\b\b\b\b\b\b\b\b\b\b\b\b\b\b\b\b\b\b\b\b\b\b\b\b\b\b\b\b\b\b\b\b\b\b\b\b\b\b\b\b\b\b\b\b\b\b\b\b\b\b\b\b\b\b\b\b\b\b\b\b\b\b\b\b\b\b\b\b\b\b\b\b\b\b\b\n",
            " 53/138 [==========>...................]\n",
            " - ETA: 0s - loss: 0.3635 - accuracy: 0.8980\n",
            "\b\b\b\b\b\b\b\b\b\b\b\b\b\b\b\b\b\b\b\b\b\b\b\b\b\b\b\b\b\b\b\b\b\b\b\b\b\b\b\b\b\b\b\b\b\b\b\b\b\b\b\b\b\b\b\b\b\b\b\b\b\b\b\b\b\b\b\b\b\b\b\b\b\b\b\b\b\b\b\b\b\b\b\b\n",
            " 64/138 [============>.................]\n",
            " - ETA: 0s - loss: 0.3092 - accuracy: 0.9126\n",
            "\b\b\b\b\b\b\b\b\b\b\b\b\b\b\b\b\b\b\b\b\b\b\b\b\b\b\b\b\b\b\b\b\b\b\b\b\b\b\b\b\b\b\b\b\b\b\b\b\b\b\b\b\b\b\b\b\b\b\b\b\b\b\b\b\b\b\b\b\b\b\b\b\b\b\b\b\b\b\b\b\b\b\b\b\n",
            " 74/138 [===============>..............]\n",
            " - ETA: 0s - loss: 0.2775 - accuracy: 0.9227\n",
            "\b\b\b\b\b\b\b\b\b\b\b\b\b\b\b\b\b\b\b\b\b\b\b\b\b\b\b\b\b\b\b\b\b\b\b\b\b\b\b\b\b\b\b\b\b\b\b\b\b\b\b\b\b\b\b\b\b\b\b\b\b\b\b\b\b\b\b\b\b\b\b\b\b\b\b\b\b\b\b\b\b\b\b\b\n",
            " 85/138 [=================>............]\n",
            " - ETA: 0s - loss: 0.2532 - accuracy: 0.9298\n",
            "\b\b\b\b\b\b\b\b\b\b\b\b\b\b\b\b\b\b\b\b\b\b\b\b\b\b\b\b\b\b\b\b\b\b\b\b\b\b\b\b\b\b\b\b\b\b\b\b\b\b\b\b\b\b\b\b\b\b\b\b\b\b\b\b\b\b\b\b\b\b\b\b\b\b\b\b\b\b\b\b\b\b\b\b\n",
            " 97/138 [====================>.........]\n",
            " - ETA: 0s - loss: 0.2261 - accuracy: 0.9372\n",
            "\b\b\b\b\b\b\b\b\b\b\b\b\b\b\b\b\b\b\b\b\b\b\b\b\b\b\b\b\b\b\b\b\b\b\b\b\b\b\b\b\b\b\b\b\b\b\b\b\b\b\b\b\b\b\b\b\b\b\b\b\b\b\b\b\b\b\b\b\b\b\b\b\b\b\b\b\b\b\b\b\b\b\b\b\n",
            "109/138 [======================>.......]\n",
            " - ETA: 0s - loss: 0.2680 - accuracy: 0.9143\n",
            "\b\b\b\b\b\b\b\b\b\b\b\b\b\b\b\b\b\b\b\b\b\b\b\b\b\b\b\b\b\b\b\b\b\b\b\b\b\b\b\b\b\b\b\b\b\b\b\b\b\b\b\b\b\b\b\b\b\b\b\b\b\b\b\b\b\b\b\b\b\b\b\b\b\b\b\b\b\b\b\b\b\b\b\b\n",
            "122/138 [=========================>....]\n",
            " - ETA: 0s - loss: 0.2412 - accuracy: 0.9234\n",
            "\b\b\b\b\b\b\b\b\b\b\b\b\b\b\b\b\b\b\b\b\b\b\b\b\b\b\b\b\b\b\b\b\b\b\b\b\b\b\b\b\b\b\b\b\b\b\b\b\b\b\b\b\b\b\b\b\b\b\b\b\b\b\b\b\b\b\b\b\b\b\b\b\b\b\b\b\b\b\b\b\b\b\b\b\n",
            "133/138 [===========================>..]\n",
            " - ETA: 0s - loss: 0.2259 - accuracy: 0.9286\n",
            "\b\b\b\b\b\b\b\b\b\b\b\b\b\b\b\b\b\b\b\b\b\b\b\b\b\b\b\b\b\b\b\b\b\b\b\b\b\b\b\b\b\b\b\b\b\b\b\b\b\b\b\b\b\b\b\b\b\b\b\b\b\b\b\b\b\b\b\b\b\b\b\b\b\b\b\b\b\b\b\b\b\b\b\b\n",
            "138/138 [==============================]\n",
            " - 1s 4ms/step - loss: 0.2193 - accuracy: 0.9308\n",
            "\n",
            "{'batch_size': 120.0, 'dropout_cnn_block_one': 0.43118063792771244, 'dropout_cnn_block_three': 0.47917229316407184, 'dropout_cnn_block_two': 0.4233929982634642, 'dropout_dense_block_one': 0.3212039031399646, 'dropout_dense_block_two': 0.6894185243448787}\n",
            "accurancy=0.9308390021324158\n",
            "100%|██████████| 3/3 [00:35<00:00, 11.74s/it, best loss: -0.9730158448219299]\n"
          ],
          "name": "stdout"
        }
      ]
    },
    {
      "cell_type": "code",
      "metadata": {
        "id": "LtvT2gj_TD6L",
        "colab_type": "code",
        "colab": {}
      },
      "source": [
        ""
      ],
      "execution_count": 0,
      "outputs": []
    }
  ]
}